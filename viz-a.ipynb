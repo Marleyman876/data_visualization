{
 "cells": [
  {
   "cell_type": "code",
   "execution_count": 19,
   "source": [
    "import pandas as pd\n",
    "import matplotlib.pyplot as plt\n",
    "import seaborn as sns"
   ],
   "outputs": [],
   "metadata": {}
  },
  {
   "cell_type": "code",
   "execution_count": 20,
   "source": [
    "df = pd.read_csv('assets/male-divorcees-age.csv')\n",
    "df"
   ],
   "outputs": [
    {
     "output_type": "execute_result",
     "data": {
      "text/plain": [
       "     year  level_1   age\n",
       "0    1980    Total  34.4\n",
       "1    1980  Chinese  34.2\n",
       "2    1980  Indians  37.5\n",
       "3    1980   Others  36.2\n",
       "4    1981    Total  35.0\n",
       "..    ...      ...   ...\n",
       "155  2018   Others  45.3\n",
       "156  2019    Total  44.0\n",
       "157  2019  Chinese  44.2\n",
       "158  2019  Indians  42.5\n",
       "159  2019   Others  44.0\n",
       "\n",
       "[160 rows x 3 columns]"
      ],
      "text/html": [
       "<div>\n",
       "<style scoped>\n",
       "    .dataframe tbody tr th:only-of-type {\n",
       "        vertical-align: middle;\n",
       "    }\n",
       "\n",
       "    .dataframe tbody tr th {\n",
       "        vertical-align: top;\n",
       "    }\n",
       "\n",
       "    .dataframe thead th {\n",
       "        text-align: right;\n",
       "    }\n",
       "</style>\n",
       "<table border=\"1\" class=\"dataframe\">\n",
       "  <thead>\n",
       "    <tr style=\"text-align: right;\">\n",
       "      <th></th>\n",
       "      <th>year</th>\n",
       "      <th>level_1</th>\n",
       "      <th>age</th>\n",
       "    </tr>\n",
       "  </thead>\n",
       "  <tbody>\n",
       "    <tr>\n",
       "      <th>0</th>\n",
       "      <td>1980</td>\n",
       "      <td>Total</td>\n",
       "      <td>34.4</td>\n",
       "    </tr>\n",
       "    <tr>\n",
       "      <th>1</th>\n",
       "      <td>1980</td>\n",
       "      <td>Chinese</td>\n",
       "      <td>34.2</td>\n",
       "    </tr>\n",
       "    <tr>\n",
       "      <th>2</th>\n",
       "      <td>1980</td>\n",
       "      <td>Indians</td>\n",
       "      <td>37.5</td>\n",
       "    </tr>\n",
       "    <tr>\n",
       "      <th>3</th>\n",
       "      <td>1980</td>\n",
       "      <td>Others</td>\n",
       "      <td>36.2</td>\n",
       "    </tr>\n",
       "    <tr>\n",
       "      <th>4</th>\n",
       "      <td>1981</td>\n",
       "      <td>Total</td>\n",
       "      <td>35.0</td>\n",
       "    </tr>\n",
       "    <tr>\n",
       "      <th>...</th>\n",
       "      <td>...</td>\n",
       "      <td>...</td>\n",
       "      <td>...</td>\n",
       "    </tr>\n",
       "    <tr>\n",
       "      <th>155</th>\n",
       "      <td>2018</td>\n",
       "      <td>Others</td>\n",
       "      <td>45.3</td>\n",
       "    </tr>\n",
       "    <tr>\n",
       "      <th>156</th>\n",
       "      <td>2019</td>\n",
       "      <td>Total</td>\n",
       "      <td>44.0</td>\n",
       "    </tr>\n",
       "    <tr>\n",
       "      <th>157</th>\n",
       "      <td>2019</td>\n",
       "      <td>Chinese</td>\n",
       "      <td>44.2</td>\n",
       "    </tr>\n",
       "    <tr>\n",
       "      <th>158</th>\n",
       "      <td>2019</td>\n",
       "      <td>Indians</td>\n",
       "      <td>42.5</td>\n",
       "    </tr>\n",
       "    <tr>\n",
       "      <th>159</th>\n",
       "      <td>2019</td>\n",
       "      <td>Others</td>\n",
       "      <td>44.0</td>\n",
       "    </tr>\n",
       "  </tbody>\n",
       "</table>\n",
       "<p>160 rows × 3 columns</p>\n",
       "</div>"
      ]
     },
     "metadata": {},
     "execution_count": 20
    }
   ],
   "metadata": {}
  },
  {
   "cell_type": "code",
   "execution_count": 22,
   "source": [
    "x = df['year'].values\n",
    "y= df['age'].values"
   ],
   "outputs": [],
   "metadata": {}
  },
  {
   "cell_type": "code",
   "execution_count": null,
   "source": [
    "x"
   ],
   "outputs": [
    {
     "output_type": "execute_result",
     "data": {
      "text/plain": [
       "array([1980, 1980, 1980, 1980, 1981, 1981, 1981, 1981, 1982, 1982, 1982,\n",
       "       1982, 1983, 1983, 1983, 1983, 1984, 1984, 1984, 1984, 1985, 1985,\n",
       "       1985, 1985, 1986, 1986, 1986, 1986, 1987, 1987, 1987, 1987, 1988,\n",
       "       1988, 1988, 1988, 1989, 1989, 1989, 1989, 1990, 1990, 1990, 1990,\n",
       "       1991, 1991, 1991, 1991, 1992, 1992, 1992, 1992, 1993, 1993, 1993,\n",
       "       1993, 1994, 1994, 1994, 1994, 1995, 1995, 1995, 1995, 1996, 1996,\n",
       "       1996, 1996, 1997, 1997, 1997, 1997, 1998, 1998, 1998, 1998, 1999,\n",
       "       1999, 1999, 1999, 2000, 2000, 2000, 2000, 2001, 2001, 2001, 2001,\n",
       "       2002, 2002, 2002, 2002, 2003, 2003, 2003, 2003, 2004, 2004, 2004,\n",
       "       2004, 2005, 2005, 2005, 2005, 2006, 2006, 2006, 2006, 2007, 2007,\n",
       "       2007, 2007, 2008, 2008, 2008, 2008, 2009, 2009, 2009, 2009, 2010,\n",
       "       2010, 2010, 2010, 2011, 2011, 2011, 2011, 2012, 2012, 2012, 2012,\n",
       "       2013, 2013, 2013, 2013, 2014, 2014, 2014, 2014, 2015, 2015, 2015,\n",
       "       2015, 2016, 2016, 2016, 2016, 2017, 2017, 2017, 2017, 2018, 2018,\n",
       "       2018, 2018, 2019, 2019, 2019, 2019])"
      ]
     },
     "metadata": {},
     "execution_count": 4
    }
   ],
   "metadata": {}
  },
  {
   "cell_type": "code",
   "execution_count": null,
   "source": [
    "y"
   ],
   "outputs": [
    {
     "output_type": "execute_result",
     "data": {
      "text/plain": [
       "array([34.4, 34.2, 37.5, 36.2, 35. , 35. , 33.8, 41.3, 35.2, 35.2, 34.5,\n",
       "       39. , 35.1, 35.1, 35.7, 37.5, 35.7, 35.6, 35.7, 38.7, 35.7, 35.6,\n",
       "       35.2, 39.3, 36.4, 36.3, 36.4, 38.3, 36.6, 36.5, 36.8, 39.6, 37. ,\n",
       "       37. , 36.2, 39.5, 37. , 37. , 36.9, 40.4, 36.8, 36.7, 37.4, 42.5,\n",
       "       37.3, 37.3, 37.1, 40.6, 37.9, 37.9, 37.2, 38.8, 37.8, 37.7, 37.4,\n",
       "       41.8, 38.3, 38.3, 37.7, 43. , 38.6, 38.6, 38.6, 39.6, 39.1, 39.1,\n",
       "       38.7, 41.8, 39.1, 39.2, 37.8, 40.8, 39.3, 39.2, 39.5, 39.6, 39.5,\n",
       "       39.5, 39.5, 40. , 39.5, 39.4, 40.8, 39.8, 39.5, 39.5, 39.2, 40.8,\n",
       "       39.2, 39.1, 39. , 40.8, 39.9, 39.8, 40.5, 42.1, 40. , 40. , 38.9,\n",
       "       43.1, 39.5, 39.4, 39.2, 41.6, 40.1, 40.1, 39.8, 42.6, 40.1, 40. ,\n",
       "       40.3, 42.8, 40.4, 40.2, 40.3, 43.5, 40.9, 40.9, 39.9, 43.3, 41.5,\n",
       "       41.5, 41.4, 43.6, 41.6, 41.6, 40.8, 42.7, 42. , 42.1, 41.3, 42.7,\n",
       "       43. , 43. , 41.6, 45.1, 42.9, 42.8, 42.1, 44.8, 43.2, 43.3, 41.8,\n",
       "       44.4, 43.3, 43.7, 41. , 43.1, 43.7, 43.9, 42. , 43.9, 44. , 44.1,\n",
       "       42.2, 45.3, 44. , 44.2, 42.5, 44. ])"
      ]
     },
     "metadata": {},
     "execution_count": 5
    }
   ],
   "metadata": {}
  },
  {
   "cell_type": "code",
   "execution_count": 23,
   "source": [
    "sns.lineplot(data=df, x=\"year\", y=\"age\")"
   ],
   "outputs": [
    {
     "output_type": "execute_result",
     "data": {
      "text/plain": [
       "<AxesSubplot:xlabel='year', ylabel='age'>"
      ]
     },
     "metadata": {},
     "execution_count": 23
    },
    {
     "output_type": "display_data",
     "data": {
      "text/plain": [
       "<Figure size 432x288 with 1 Axes>"
      ],
      "image/png": "[encoded data removed]"
     },
     "metadata": {
      "needs_background": "light"
     }
    }
   ],
   "metadata": {}
  },
  {
   "cell_type": "code",
   "execution_count": null,
   "source": [
    "# From this Data we can deduce that the average age of divorced men has steadily increased between 1980 and 2020\n",
    "# There was a slight decline in the average age of divorce men between 1990-95\n",
    "# There are no divorcees under the age of 34"
   ],
   "outputs": [],
   "metadata": {}
  }
 ],
 "metadata": {
  "orig_nbformat": 4,
  "language_info": {
   "name": "python",
   "version": "3.9.5",
   "mimetype": "text/x-python",
   "codemirror_mode": {
    "name": "ipython",
    "version": 3
   },
   "pygments_lexer": "ipython3",
   "nbconvert_exporter": "python",
   "file_extension": ".py"
  },
  "kernelspec": {
   "name": "python3",
   "display_name": "Python 3.9.5 64-bit ('.venv': poetry)"
  },
  "interpreter": {
   "hash": "2d84c4fe223de03815f1248f59e7daf2f0fa36c2220999fdb4ced29128d1b310"
  }
 },
 "nbformat": 4,
 "nbformat_minor": 2
}